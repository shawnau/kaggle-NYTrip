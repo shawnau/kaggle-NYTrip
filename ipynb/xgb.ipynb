{
 "cells": [
  {
   "cell_type": "code",
   "execution_count": 1,
   "metadata": {
    "collapsed": true
   },
   "outputs": [],
   "source": [
    "import xgboost as xgb\n",
    "import utils as ut\n",
    "import pandas as pd\n",
    "import numpy as np"
   ]
  },
  {
   "cell_type": "code",
   "execution_count": 2,
   "metadata": {
    "collapsed": false
   },
   "outputs": [],
   "source": [
    "train = pd.read_csv('train_v1.csv')\n",
    "test = pd.read_csv('test_v1.csv')"
   ]
  },
  {
   "cell_type": "code",
   "execution_count": 3,
   "metadata": {
    "collapsed": false
   },
   "outputs": [],
   "source": [
    "y = np.log(train['trip_duration'].values + 1)\n",
    "train = train.drop(['Unnamed: 0', 'trip_duration'], axis=1)\n",
    "test = test.drop(['Unnamed: 0'], axis=1)"
   ]
  },
  {
   "cell_type": "code",
   "execution_count": null,
   "metadata": {
    "collapsed": true
   },
   "outputs": [],
   "source": [
    "from sklearn.model_selection import train_test_split\n",
    "Xtr, Xv, ytr, yv = train_test_split(train, y, test_size=0.2, random_state=1992)"
   ]
  },
  {
   "cell_type": "code",
   "execution_count": 7,
   "metadata": {
    "collapsed": true
   },
   "outputs": [],
   "source": [
    "dtrain = xgb.DMatrix(Xtr, label=ytr)\n",
    "dvalid = xgb.DMatrix(Xv, label=yv)\n",
    "dtest = xgb.DMatrix(test)\n",
    "watchlist = [(dtrain, 'train'), (dvalid, 'valid')]"
   ]
  },
  {
   "cell_type": "code",
   "execution_count": 8,
   "metadata": {
    "collapsed": true
   },
   "outputs": [],
   "source": [
    "xgb_pars = {'min_child_weight': 10,\n",
    "            'eta': 0.005,\n",
    "            'colsample_bytree': 0.3,\n",
    "            'max_depth': 10,\n",
    "            'subsample': 0.8,\n",
    "            'lambda': 2.0,\n",
    "            'nthread': -1,\n",
    "            'booster' : 'gbtree',\n",
    "            'silent': 1,\n",
    "            'eval_metric': 'rmse',\n",
    "            'objective': 'reg:linear'}"
   ]
  },
  {
   "cell_type": "code",
   "execution_count": 10,
   "metadata": {
    "collapsed": false
   },
   "outputs": [
    {
     "name": "stdout",
     "output_type": "stream",
     "text": [
      "{'min_child_weight': 10, 'eta': 0.05, 'colsample_bytree': 0.3, 'max_depth': 6, 'subsample': 0.9, 'lambda': 2.0, 'nthread': -1, 'booster': 'gbtree', 'eval_metric': 'rmse', 'silent': 1, 'objective': 'reg:linear'}\n",
      "[0]\ttrain-rmse:5.72053\tvalid-rmse:5.72099\n",
      "Multiple eval metrics have been passed: 'valid-rmse' will be used for early stopping.\n",
      "\n",
      "Will train until valid-rmse hasn't improved in 50 rounds.\n",
      "[100]\ttrain-rmse:0.393139\tvalid-rmse:0.39511\n",
      "[200]\ttrain-rmse:0.380825\tvalid-rmse:0.385329\n",
      "[300]\ttrain-rmse:0.375172\tvalid-rmse:0.381874\n",
      "[400]\ttrain-rmse:0.371214\tvalid-rmse:0.379984\n",
      "[500]\ttrain-rmse:0.367979\tvalid-rmse:0.378515\n",
      "[600]\ttrain-rmse:0.36528\tvalid-rmse:0.377527\n",
      "[700]\ttrain-rmse:0.362766\tvalid-rmse:0.376675\n",
      "[800]\ttrain-rmse:0.360372\tvalid-rmse:0.376011\n",
      "[900]\ttrain-rmse:0.358199\tvalid-rmse:0.375448\n",
      "[1000]\ttrain-rmse:0.356273\tvalid-rmse:0.374937\n",
      "[1100]\ttrain-rmse:0.354416\tvalid-rmse:0.374538\n",
      "[1200]\ttrain-rmse:0.352619\tvalid-rmse:0.374104\n",
      "[1300]\ttrain-rmse:0.350923\tvalid-rmse:0.3737\n",
      "[1400]\ttrain-rmse:0.349331\tvalid-rmse:0.373415\n",
      "[1500]\ttrain-rmse:0.34777\tvalid-rmse:0.37314\n",
      "[1600]\ttrain-rmse:0.346423\tvalid-rmse:0.372885\n",
      "[1700]\ttrain-rmse:0.345002\tvalid-rmse:0.372619\n",
      "[1800]\ttrain-rmse:0.343661\tvalid-rmse:0.372398\n",
      "[1900]\ttrain-rmse:0.342469\tvalid-rmse:0.372216\n",
      "Modeling RMSLE 0.37208\n",
      "{'min_child_weight': 10, 'eta': 0.05, 'colsample_bytree': 0.3, 'max_depth': 8, 'subsample': 0.9, 'lambda': 2.0, 'nthread': -1, 'booster': 'gbtree', 'eval_metric': 'rmse', 'silent': 1, 'objective': 'reg:linear'}\n",
      "[0]\ttrain-rmse:5.72044\tvalid-rmse:5.7209\n",
      "Multiple eval metrics have been passed: 'valid-rmse' will be used for early stopping.\n",
      "\n",
      "Will train until valid-rmse hasn't improved in 50 rounds.\n",
      "[100]\ttrain-rmse:0.380547\tvalid-rmse:0.387688\n",
      "[200]\ttrain-rmse:0.364813\tvalid-rmse:0.378955\n",
      "[300]\ttrain-rmse:0.356268\tvalid-rmse:0.375804\n",
      "[400]\ttrain-rmse:0.35044\tvalid-rmse:0.374\n",
      "[500]\ttrain-rmse:0.345685\tvalid-rmse:0.372816\n",
      "[600]\ttrain-rmse:0.341519\tvalid-rmse:0.372032\n",
      "[700]\ttrain-rmse:0.337645\tvalid-rmse:0.371263\n",
      "[800]\ttrain-rmse:0.33419\tvalid-rmse:0.370689\n",
      "[900]\ttrain-rmse:0.331021\tvalid-rmse:0.370258\n",
      "[1000]\ttrain-rmse:0.328295\tvalid-rmse:0.369867\n",
      "[1100]\ttrain-rmse:0.325625\tvalid-rmse:0.369628\n",
      "[1200]\ttrain-rmse:0.323269\tvalid-rmse:0.369376\n",
      "[1300]\ttrain-rmse:0.321108\tvalid-rmse:0.369035\n",
      "[1400]\ttrain-rmse:0.318931\tvalid-rmse:0.368756\n",
      "[1500]\ttrain-rmse:0.316874\tvalid-rmse:0.368559\n",
      "[1600]\ttrain-rmse:0.315059\tvalid-rmse:0.368463\n",
      "[1700]\ttrain-rmse:0.313148\tvalid-rmse:0.368276\n",
      "[1800]\ttrain-rmse:0.31126\tvalid-rmse:0.368072\n",
      "[1900]\ttrain-rmse:0.309471\tvalid-rmse:0.367907\n",
      "Modeling RMSLE 0.36777\n",
      "{'min_child_weight': 10, 'eta': 0.05, 'colsample_bytree': 0.3, 'max_depth': 10, 'subsample': 0.9, 'lambda': 2.0, 'nthread': -1, 'booster': 'gbtree', 'eval_metric': 'rmse', 'silent': 1, 'objective': 'reg:linear'}\n",
      "[0]\ttrain-rmse:5.72043\tvalid-rmse:5.72089\n",
      "Multiple eval metrics have been passed: 'valid-rmse' will be used for early stopping.\n",
      "\n",
      "Will train until valid-rmse hasn't improved in 50 rounds.\n",
      "[100]\ttrain-rmse:0.365642\tvalid-rmse:0.383219\n",
      "[200]\ttrain-rmse:0.344171\tvalid-rmse:0.37493\n",
      "[300]\ttrain-rmse:0.331657\tvalid-rmse:0.371938\n",
      "[400]\ttrain-rmse:0.322832\tvalid-rmse:0.370268\n",
      "[500]\ttrain-rmse:0.315714\tvalid-rmse:0.369214\n"
     ]
    },
    {
     "ename": "KeyboardInterrupt",
     "evalue": "",
     "output_type": "error",
     "traceback": [
      "\u001b[0;31m---------------------------------------------------------------------------\u001b[0m",
      "\u001b[0;31mKeyboardInterrupt\u001b[0m                         Traceback (most recent call last)",
      "\u001b[0;32m<ipython-input-10-f3b21e58fe2a>\u001b[0m in \u001b[0;36m<module>\u001b[0;34m()\u001b[0m\n\u001b[1;32m     22\u001b[0m     \u001b[0mprint\u001b[0m\u001b[0;34m(\u001b[0m\u001b[0mxgb_par\u001b[0m\u001b[0;34m)\u001b[0m\u001b[0;34m\u001b[0m\u001b[0m\n\u001b[1;32m     23\u001b[0m     model = xgb.train(xgb_par, dtrain, 2000, watchlist, early_stopping_rounds=50,\n\u001b[0;32m---> 24\u001b[0;31m                       maximize=False, verbose_eval=100)\n\u001b[0m\u001b[1;32m     25\u001b[0m     \u001b[0mprint\u001b[0m\u001b[0;34m(\u001b[0m\u001b[0;34m'Modeling RMSLE %.5f'\u001b[0m \u001b[0;34m%\u001b[0m \u001b[0mmodel\u001b[0m\u001b[0;34m.\u001b[0m\u001b[0mbest_score\u001b[0m\u001b[0;34m)\u001b[0m\u001b[0;34m\u001b[0m\u001b[0m\n",
      "\u001b[0;32m/Users/Shawn/xgboost/python-package/xgboost/training.py\u001b[0m in \u001b[0;36mtrain\u001b[0;34m(params, dtrain, num_boost_round, evals, obj, feval, maximize, early_stopping_rounds, evals_result, verbose_eval, xgb_model, callbacks, learning_rates)\u001b[0m\n\u001b[1;32m    202\u001b[0m                            \u001b[0mevals\u001b[0m\u001b[0;34m=\u001b[0m\u001b[0mevals\u001b[0m\u001b[0;34m,\u001b[0m\u001b[0;34m\u001b[0m\u001b[0m\n\u001b[1;32m    203\u001b[0m                            \u001b[0mobj\u001b[0m\u001b[0;34m=\u001b[0m\u001b[0mobj\u001b[0m\u001b[0;34m,\u001b[0m \u001b[0mfeval\u001b[0m\u001b[0;34m=\u001b[0m\u001b[0mfeval\u001b[0m\u001b[0;34m,\u001b[0m\u001b[0;34m\u001b[0m\u001b[0m\n\u001b[0;32m--> 204\u001b[0;31m                            xgb_model=xgb_model, callbacks=callbacks)\n\u001b[0m\u001b[1;32m    205\u001b[0m \u001b[0;34m\u001b[0m\u001b[0m\n\u001b[1;32m    206\u001b[0m \u001b[0;34m\u001b[0m\u001b[0m\n",
      "\u001b[0;32m/Users/Shawn/xgboost/python-package/xgboost/training.py\u001b[0m in \u001b[0;36m_train_internal\u001b[0;34m(params, dtrain, num_boost_round, evals, obj, feval, xgb_model, callbacks)\u001b[0m\n\u001b[1;32m     72\u001b[0m         \u001b[0;31m# Skip the first update if it is a recovery step.\u001b[0m\u001b[0;34m\u001b[0m\u001b[0;34m\u001b[0m\u001b[0m\n\u001b[1;32m     73\u001b[0m         \u001b[0;32mif\u001b[0m \u001b[0mversion\u001b[0m \u001b[0;34m%\u001b[0m \u001b[0;36m2\u001b[0m \u001b[0;34m==\u001b[0m \u001b[0;36m0\u001b[0m\u001b[0;34m:\u001b[0m\u001b[0;34m\u001b[0m\u001b[0m\n\u001b[0;32m---> 74\u001b[0;31m             \u001b[0mbst\u001b[0m\u001b[0;34m.\u001b[0m\u001b[0mupdate\u001b[0m\u001b[0;34m(\u001b[0m\u001b[0mdtrain\u001b[0m\u001b[0;34m,\u001b[0m \u001b[0mi\u001b[0m\u001b[0;34m,\u001b[0m \u001b[0mobj\u001b[0m\u001b[0;34m)\u001b[0m\u001b[0;34m\u001b[0m\u001b[0m\n\u001b[0m\u001b[1;32m     75\u001b[0m             \u001b[0mbst\u001b[0m\u001b[0;34m.\u001b[0m\u001b[0msave_rabit_checkpoint\u001b[0m\u001b[0;34m(\u001b[0m\u001b[0;34m)\u001b[0m\u001b[0;34m\u001b[0m\u001b[0m\n\u001b[1;32m     76\u001b[0m             \u001b[0mversion\u001b[0m \u001b[0;34m+=\u001b[0m \u001b[0;36m1\u001b[0m\u001b[0;34m\u001b[0m\u001b[0m\n",
      "\u001b[0;32m/Users/Shawn/xgboost/python-package/xgboost/core.py\u001b[0m in \u001b[0;36mupdate\u001b[0;34m(self, dtrain, iteration, fobj)\u001b[0m\n\u001b[1;32m    817\u001b[0m \u001b[0;34m\u001b[0m\u001b[0m\n\u001b[1;32m    818\u001b[0m         \u001b[0;32mif\u001b[0m \u001b[0mfobj\u001b[0m \u001b[0;32mis\u001b[0m \u001b[0;32mNone\u001b[0m\u001b[0;34m:\u001b[0m\u001b[0;34m\u001b[0m\u001b[0m\n\u001b[0;32m--> 819\u001b[0;31m             \u001b[0m_check_call\u001b[0m\u001b[0;34m(\u001b[0m\u001b[0m_LIB\u001b[0m\u001b[0;34m.\u001b[0m\u001b[0mXGBoosterUpdateOneIter\u001b[0m\u001b[0;34m(\u001b[0m\u001b[0mself\u001b[0m\u001b[0;34m.\u001b[0m\u001b[0mhandle\u001b[0m\u001b[0;34m,\u001b[0m \u001b[0miteration\u001b[0m\u001b[0;34m,\u001b[0m \u001b[0mdtrain\u001b[0m\u001b[0;34m.\u001b[0m\u001b[0mhandle\u001b[0m\u001b[0;34m)\u001b[0m\u001b[0;34m)\u001b[0m\u001b[0;34m\u001b[0m\u001b[0m\n\u001b[0m\u001b[1;32m    820\u001b[0m         \u001b[0;32melse\u001b[0m\u001b[0;34m:\u001b[0m\u001b[0;34m\u001b[0m\u001b[0m\n\u001b[1;32m    821\u001b[0m             \u001b[0mpred\u001b[0m \u001b[0;34m=\u001b[0m \u001b[0mself\u001b[0m\u001b[0;34m.\u001b[0m\u001b[0mpredict\u001b[0m\u001b[0;34m(\u001b[0m\u001b[0mdtrain\u001b[0m\u001b[0;34m)\u001b[0m\u001b[0;34m\u001b[0m\u001b[0m\n",
      "\u001b[0;31mKeyboardInterrupt\u001b[0m: "
     ]
    }
   ],
   "source": [
    "FOREVER_COMPUTING_FLAG = True\n",
    "xgb_pars = []\n",
    "for MCW in [10, 20]:\n",
    "    for ETA in [0.05]:\n",
    "        for CS in [0.3, 0.4, 0.5]:\n",
    "            for MD in [6, 8, 10, 12, 15]:\n",
    "                for SS in [0.9]:\n",
    "                    for LAMBDA in [2.0]:\n",
    "                        xgb_pars.append({'min_child_weight': MCW,\n",
    "                                         'eta': ETA, \n",
    "                                         'colsample_bytree': CS,\n",
    "                                         'max_depth': MD,\n",
    "                                         'subsample': SS,\n",
    "                                         'lambda': LAMBDA, \n",
    "                                         'nthread': -1,\n",
    "                                         'booster' : 'gbtree',\n",
    "                                         'eval_metric': 'rmse',\n",
    "                                         'silent': 1,\n",
    "                                         'objective': 'reg:linear'})\n",
    "\n",
    "for xgb_par in xgb_pars:\n",
    "    print(xgb_par)\n",
    "    model = xgb.train(xgb_par, dtrain, 2000, watchlist, early_stopping_rounds=50,\n",
    "                      maximize=False, verbose_eval=100)\n",
    "    print('Modeling RMSLE %.5f' % model.best_score)"
   ]
  },
  {
   "cell_type": "code",
   "execution_count": null,
   "metadata": {
    "collapsed": true
   },
   "outputs": [],
   "source": []
  }
 ],
 "metadata": {
  "anaconda-cloud": {},
  "kernelspec": {
   "display_name": "Python [conda env:python3]",
   "language": "python",
   "name": "conda-env-python3-py"
  },
  "language_info": {
   "codemirror_mode": {
    "name": "ipython",
    "version": 3
   },
   "file_extension": ".py",
   "mimetype": "text/x-python",
   "name": "python",
   "nbconvert_exporter": "python",
   "pygments_lexer": "ipython3",
   "version": "3.6.1"
  }
 },
 "nbformat": 4,
 "nbformat_minor": 1
}
